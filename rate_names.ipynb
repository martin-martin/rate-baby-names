{
 "cells": [
  {
   "cell_type": "code",
   "execution_count": 14,
   "metadata": {},
   "outputs": [],
   "source": [
    "import random"
   ]
  },
  {
   "cell_type": "code",
   "execution_count": 15,
   "metadata": {},
   "outputs": [],
   "source": [
    "class BabyName:\n",
    "    \n",
    "    def __init__(self, name, rating=0):\n",
    "        self.name = name.title()\n",
    "        self.rating = rating\n",
    "    \n",
    "    def rate(self):\n",
    "        while self.rating == 0:\n",
    "            try:\n",
    "                user_rating = int(input(f\"Rate how much you like the name {self.name}\\nfrom (least) 1 to 5 (most): \"))\n",
    "                if user_rating not in range(1, 5):\n",
    "                    print(\"Nah-ah, keep it reproducible!\")\n",
    "                else:\n",
    "                    self.rating = user_rating\n",
    "            except ValueError as e:\n",
    "                print(f\"{e}: Please enter a number from 1 to 5.\")\n",
    "    \n",
    "    def __repr__(self):\n",
    "        return f\"Baby Name: {self.name}, rated: {self.rating}\"\n",
    "    "
   ]
  },
  {
   "cell_type": "code",
   "execution_count": 16,
   "metadata": {},
   "outputs": [],
   "source": [
    "with open('rated_names.csv', 'r') as f:\n",
    "    name_objs = []\n",
    "    for line in f.readlines()[1:]:  # skip the first line that holds the column names\n",
    "        line = line.rstrip()  # remove newline char\n",
    "        name, rating = line.split(',')  # resolving CSV file (2 datums)\n",
    "        # creat a BabyName object\n",
    "        baby_name = BabyName(name, int(rating))  # convert rating to integer\n",
    "        name_objs.append(baby_name)"
   ]
  },
  {
   "cell_type": "code",
   "execution_count": 17,
   "metadata": {},
   "outputs": [
    {
     "name": "stdout",
     "output_type": "stream",
     "text": [
      "Rate how much you like the name Ivic\n",
      "from (least) 1 to 10 (most): 7\n",
      "Rate how much you like the name Tielor\n",
      "from (least) 1 to 10 (most): 3\n",
      "Rate how much you like the name Kuniko\n",
      "from (least) 1 to 10 (most): 8\n",
      "Rate how much you like the name Ambroisin\n",
      "from (least) 1 to 10 (most): 2\n",
      "Rate how much you like the name Shyree\n",
      "from (least) 1 to 10 (most): 7\n"
     ]
    }
   ],
   "source": [
    "count = 0\n",
    "while count < 5: # ask only a few every time\n",
    "    ask = random.choice(name_objs)\n",
    "    if ask.rating != 0:\n",
    "        continue\n",
    "    else:\n",
    "        ask.rate()\n",
    "        count += 1"
   ]
  },
  {
   "cell_type": "code",
   "execution_count": 18,
   "metadata": {},
   "outputs": [],
   "source": [
    "# write the changed data back to file\n",
    "str_repr = \"\"\n",
    "for name in name_objs:\n",
    "    str_repr += f\"{name.name},{name.rating}\\n\"\n",
    "\n",
    "with open('rated_names.csv', 'w') as f:\n",
    "    f.write(\"name, rating\\n\")\n",
    "    f.write(str_repr)"
   ]
  },
  {
   "cell_type": "code",
   "execution_count": null,
   "metadata": {},
   "outputs": [],
   "source": []
  }
 ],
 "metadata": {
  "kernelspec": {
   "display_name": "Python 3",
   "language": "python",
   "name": "python3"
  },
  "language_info": {
   "codemirror_mode": {
    "name": "ipython",
    "version": 3
   },
   "file_extension": ".py",
   "mimetype": "text/x-python",
   "name": "python",
   "nbconvert_exporter": "python",
   "pygments_lexer": "ipython3",
   "version": "3.6.5"
  }
 },
 "nbformat": 4,
 "nbformat_minor": 2
}
