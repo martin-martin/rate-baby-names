{
 "cells": [
  {
   "cell_type": "code",
   "execution_count": 34,
   "metadata": {},
   "outputs": [],
   "source": [
    "import re"
   ]
  },
  {
   "cell_type": "code",
   "execution_count": 36,
   "metadata": {},
   "outputs": [],
   "source": [
    "with open('data/data.dat', 'r') as f:\n",
    "    data = f.readlines()"
   ]
  },
  {
   "cell_type": "code",
   "execution_count": 37,
   "metadata": {},
   "outputs": [],
   "source": [
    "pattern = re.compile(r'\\w+')\n",
    "\n",
    "names = [re.search(pattern, n).group() for n in data]"
   ]
  },
  {
   "cell_type": "code",
   "execution_count": 38,
   "metadata": {},
   "outputs": [
    {
     "data": {
      "text/plain": [
       "['Aaban', 'Aabid']"
      ]
     },
     "execution_count": 38,
     "metadata": {},
     "output_type": "execute_result"
    }
   ],
   "source": [
    "names[:2]"
   ]
  },
  {
   "cell_type": "code",
   "execution_count": 39,
   "metadata": {},
   "outputs": [],
   "source": [
    "class BabyName:\n",
    "    \n",
    "    def __init__(self, name, rating=0):\n",
    "        self.name = name.title()\n",
    "        self.rating = rating\n",
    "    \n",
    "    def rate(self):\n",
    "        while self.rating == 0:\n",
    "            try:\n",
    "                user_rating = int(input(f\"Rate how much you like the name {self.name}\\nfrom (least) 1 to 5 (most): \"))\n",
    "                if user_rating not in range(1, 5):\n",
    "                    print(\"Nah-ah, keep it reproducible!\")\n",
    "                else:\n",
    "                    self.rating = user_rating\n",
    "            except ValueError as e:\n",
    "                print(f\"{e}: Please enter a number from 1 to 5.\")\n",
    "    \n",
    "    def __repr__(self):\n",
    "        return f\"Baby Name: {self.name}, rated: {self.rating}\"\n",
    "    "
   ]
  },
  {
   "cell_type": "code",
   "execution_count": 40,
   "metadata": {},
   "outputs": [],
   "source": [
    "name_objs = [BabyName(name) for name in names]"
   ]
  },
  {
   "cell_type": "code",
   "execution_count": null,
   "metadata": {},
   "outputs": [],
   "source": [
    "str_repr = \"\"\n",
    "for name in name_objs:\n",
    "    str_repr += f\"{name.name},{name.rating}\\n\"\n",
    "\n",
    "with open('blank_names.csv', 'w') as f:\n",
    "    f.write(\"name, rating\\n\")\n",
    "    f.write(str_repr)"
   ]
  }
 ],
 "metadata": {
  "kernelspec": {
   "display_name": "Python 3",
   "language": "python",
   "name": "python3"
  },
  "language_info": {
   "codemirror_mode": {
    "name": "ipython",
    "version": 3
   },
   "file_extension": ".py",
   "mimetype": "text/x-python",
   "name": "python",
   "nbconvert_exporter": "python",
   "pygments_lexer": "ipython3",
   "version": "3.6.5"
  }
 },
 "nbformat": 4,
 "nbformat_minor": 2
}
